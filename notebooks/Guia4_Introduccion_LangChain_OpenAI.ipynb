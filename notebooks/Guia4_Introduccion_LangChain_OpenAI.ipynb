{
 "cells": [
  {
   "cell_type": "markdown",
   "id": "83152e03",
   "metadata": {},
   "source": [
    "# Guía 3 — Introducción a LangChain con OpenAI API\n",
    "Curso: **IA en el Aula — Nivel Avanzado**  \n",
    "Profesor: **Luis Daniel Benavides Navarro**  \n",
    "Fecha: **Octubre 2025**\n",
    "\n",
    "En esta guía aprenderás los conceptos básicos de **LangChain**, una librería diseñada para construir aplicaciones impulsadas por modelos de lenguaje, integrando la API de OpenAI con flujos más complejos. Exploraremos cómo crear un primer **prompt chain**, administrar memoria y usar herramientas para componer respuestas inteligentes."
   ]
  },
  {
   "cell_type": "markdown",
   "id": "1b4929bd",
   "metadata": {},
   "source": [
    "## 1️⃣ Instalación y configuración inicial\n",
    "LangChain se instala como cualquier otra librería de Python. También usaremos `python-dotenv` para gestionar la clave de OpenAI. Ejecute la siguiente celda:"
   ]
  },
  {
   "cell_type": "code",
   "execution_count": null,
   "id": "aca0e6f9",
   "metadata": {},
   "outputs": [
    {
     "name": "stdout",
     "output_type": "stream",
     "text": [
      "Requirement already satisfied: openai in c:\\users\\miguel.motta-u\\desktop\\tmp\\arep-t2-ws-3\\venv\\lib\\site-packages (2.6.1)\n",
      "Collecting langchain\n",
      "  Downloading langchain-1.0.2-py3-none-any.whl (107 kB)\n",
      "     ------------------------------------ 107.8/107.8 kB 250.2 kB/s eta 0:00:00\n",
      "Requirement already satisfied: python-dotenv in c:\\users\\miguel.motta-u\\desktop\\tmp\\arep-t2-ws-3\\venv\\lib\\site-packages (1.2.1)\n",
      "Collecting langchain-openai\n",
      "  Downloading langchain_openai-1.0.1-py3-none-any.whl (81 kB)\n",
      "     ---------------------------------------- 81.9/81.9 kB 4.5 MB/s eta 0:00:00\n",
      "Requirement already satisfied: anyio<5,>=3.5.0 in c:\\users\\miguel.motta-u\\desktop\\tmp\\arep-t2-ws-3\\venv\\lib\\site-packages (from openai) (4.11.0)\n",
      "Requirement already satisfied: distro<2,>=1.7.0 in c:\\users\\miguel.motta-u\\desktop\\tmp\\arep-t2-ws-3\\venv\\lib\\site-packages (from openai) (1.9.0)\n",
      "Requirement already satisfied: httpx<1,>=0.23.0 in c:\\users\\miguel.motta-u\\desktop\\tmp\\arep-t2-ws-3\\venv\\lib\\site-packages (from openai) (0.28.1)\n",
      "Requirement already satisfied: jiter<1,>=0.10.0 in c:\\users\\miguel.motta-u\\desktop\\tmp\\arep-t2-ws-3\\venv\\lib\\site-packages (from openai) (0.11.1)\n",
      "Requirement already satisfied: pydantic<3,>=1.9.0 in c:\\users\\miguel.motta-u\\desktop\\tmp\\arep-t2-ws-3\\venv\\lib\\site-packages (from openai) (2.12.3)\n",
      "Requirement already satisfied: sniffio in c:\\users\\miguel.motta-u\\desktop\\tmp\\arep-t2-ws-3\\venv\\lib\\site-packages (from openai) (1.3.1)\n",
      "Requirement already satisfied: tqdm>4 in c:\\users\\miguel.motta-u\\desktop\\tmp\\arep-t2-ws-3\\venv\\lib\\site-packages (from openai) (4.67.1)\n",
      "Requirement already satisfied: typing-extensions<5,>=4.11 in c:\\users\\miguel.motta-u\\desktop\\tmp\\arep-t2-ws-3\\venv\\lib\\site-packages (from openai) (4.15.0)\n",
      "Collecting langchain-core<2.0.0,>=1.0.0\n",
      "  Downloading langchain_core-1.0.1-py3-none-any.whl (467 kB)\n",
      "     -------------------------------------- 467.1/467.1 kB 2.9 MB/s eta 0:00:00\n",
      "Collecting langgraph<1.1.0,>=1.0.0\n",
      "  Downloading langgraph-1.0.1-py3-none-any.whl (155 kB)\n",
      "     -------------------------------------- 155.4/155.4 kB 9.1 MB/s eta 0:00:00\n",
      "Collecting tiktoken<1.0.0,>=0.7.0\n",
      "  Downloading tiktoken-0.12.0-cp311-cp311-win_amd64.whl (879 kB)\n",
      "     -------------------------------------- 879.4/879.4 kB 1.3 MB/s eta 0:00:00\n",
      "Requirement already satisfied: idna>=2.8 in c:\\users\\miguel.motta-u\\desktop\\tmp\\arep-t2-ws-3\\venv\\lib\\site-packages (from anyio<5,>=3.5.0->openai) (3.11)\n",
      "Requirement already satisfied: certifi in c:\\users\\miguel.motta-u\\desktop\\tmp\\arep-t2-ws-3\\venv\\lib\\site-packages (from httpx<1,>=0.23.0->openai) (2025.10.5)\n",
      "Requirement already satisfied: httpcore==1.* in c:\\users\\miguel.motta-u\\desktop\\tmp\\arep-t2-ws-3\\venv\\lib\\site-packages (from httpx<1,>=0.23.0->openai) (1.0.9)\n",
      "Requirement already satisfied: h11>=0.16 in c:\\users\\miguel.motta-u\\desktop\\tmp\\arep-t2-ws-3\\venv\\lib\\site-packages (from httpcore==1.*->httpx<1,>=0.23.0->openai) (0.16.0)\n",
      "Collecting jsonpatch<2.0.0,>=1.33.0\n",
      "  Downloading jsonpatch-1.33-py2.py3-none-any.whl (12 kB)\n",
      "Collecting langsmith<1.0.0,>=0.3.45\n",
      "  Downloading langsmith-0.4.38-py3-none-any.whl (397 kB)\n",
      "     ------------------------------------ 397.3/397.3 kB 917.3 kB/s eta 0:00:00\n",
      "Requirement already satisfied: packaging<26.0.0,>=23.2.0 in c:\\users\\miguel.motta-u\\desktop\\tmp\\arep-t2-ws-3\\venv\\lib\\site-packages (from langchain-core<2.0.0,>=1.0.0->langchain) (25.0)\n",
      "Collecting pyyaml<7.0.0,>=5.3.0\n",
      "  Downloading pyyaml-6.0.3-cp311-cp311-win_amd64.whl (158 kB)\n",
      "     -------------------------------------- 158.8/158.8 kB 1.9 MB/s eta 0:00:00\n",
      "Collecting tenacity!=8.4.0,<10.0.0,>=8.1.0\n",
      "  Downloading tenacity-9.1.2-py3-none-any.whl (28 kB)\n",
      "Collecting langgraph-checkpoint<4.0.0,>=2.1.0\n",
      "  Downloading langgraph_checkpoint-3.0.0-py3-none-any.whl (46 kB)\n",
      "     ---------------------------------------- 46.1/46.1 kB ? eta 0:00:00\n",
      "Collecting langgraph-prebuilt<1.1.0,>=1.0.0\n",
      "  Downloading langgraph_prebuilt-1.0.1-py3-none-any.whl (28 kB)\n",
      "Collecting langgraph-sdk<0.3.0,>=0.2.2\n",
      "  Downloading langgraph_sdk-0.2.9-py3-none-any.whl (56 kB)\n",
      "     ---------------------------------------- 56.8/56.8 kB 2.9 MB/s eta 0:00:00\n",
      "Collecting xxhash>=3.5.0\n",
      "  Downloading xxhash-3.6.0-cp311-cp311-win_amd64.whl (31 kB)\n",
      "Requirement already satisfied: annotated-types>=0.6.0 in c:\\users\\miguel.motta-u\\desktop\\tmp\\arep-t2-ws-3\\venv\\lib\\site-packages (from pydantic<3,>=1.9.0->openai) (0.7.0)\n",
      "Requirement already satisfied: pydantic-core==2.41.4 in c:\\users\\miguel.motta-u\\desktop\\tmp\\arep-t2-ws-3\\venv\\lib\\site-packages (from pydantic<3,>=1.9.0->openai) (2.41.4)\n",
      "Requirement already satisfied: typing-inspection>=0.4.2 in c:\\users\\miguel.motta-u\\desktop\\tmp\\arep-t2-ws-3\\venv\\lib\\site-packages (from pydantic<3,>=1.9.0->openai) (0.4.2)\n",
      "Collecting regex>=2022.1.18\n",
      "  Downloading regex-2025.10.23-cp311-cp311-win_amd64.whl (277 kB)\n",
      "     -------------------------------------- 277.6/277.6 kB 2.8 MB/s eta 0:00:00\n",
      "Collecting requests>=2.26.0\n",
      "  Downloading requests-2.32.5-py3-none-any.whl (64 kB)\n",
      "     ---------------------------------------- 64.7/64.7 kB 3.4 MB/s eta 0:00:00\n",
      "Requirement already satisfied: colorama in c:\\users\\miguel.motta-u\\desktop\\tmp\\arep-t2-ws-3\\venv\\lib\\site-packages (from tqdm>4->openai) (0.4.6)\n",
      "Collecting jsonpointer>=1.9\n",
      "  Downloading jsonpointer-3.0.0-py2.py3-none-any.whl (7.6 kB)\n",
      "Collecting ormsgpack>=1.10.0\n",
      "  Downloading ormsgpack-1.11.0-cp311-cp311-win_amd64.whl (112 kB)\n",
      "     -------------------------------------- 112.1/112.1 kB 6.8 MB/s eta 0:00:00\n",
      "Collecting orjson>=3.10.1\n",
      "  Downloading orjson-3.11.4-cp311-cp311-win_amd64.whl (131 kB)\n",
      "     ------------------------------------ 131.4/131.4 kB 429.6 kB/s eta 0:00:00\n",
      "Collecting requests-toolbelt>=1.0.0\n",
      "  Downloading requests_toolbelt-1.0.0-py2.py3-none-any.whl (54 kB)\n",
      "     -------------------------------------- 54.5/54.5 kB 177.0 kB/s eta 0:00:00\n",
      "Collecting zstandard>=0.23.0\n",
      "  Downloading zstandard-0.25.0-cp311-cp311-win_amd64.whl (506 kB)\n",
      "     ------------------------------------ 506.2/506.2 kB 519.9 kB/s eta 0:00:00\n",
      "Collecting charset_normalizer<4,>=2\n",
      "  Downloading charset_normalizer-3.4.4-cp311-cp311-win_amd64.whl (106 kB)\n",
      "     ------------------------------------ 107.0/107.0 kB 344.3 kB/s eta 0:00:00\n",
      "Collecting urllib3<3,>=1.21.1\n",
      "  Downloading urllib3-2.5.0-py3-none-any.whl (129 kB)\n",
      "     ------------------------------------ 129.8/129.8 kB 425.5 kB/s eta 0:00:00\n",
      "Installing collected packages: zstandard, xxhash, urllib3, tenacity, regex, pyyaml, ormsgpack, orjson, jsonpointer, charset_normalizer, requests, jsonpatch, tiktoken, requests-toolbelt, langgraph-sdk, langsmith, langchain-core, langgraph-checkpoint, langchain-openai, langgraph-prebuilt, langgraph, langchain\n",
      "Successfully installed charset_normalizer-3.4.4 jsonpatch-1.33 jsonpointer-3.0.0 langchain-1.0.2 langchain-core-1.0.1 langchain-openai-1.0.1 langgraph-1.0.1 langgraph-checkpoint-3.0.0 langgraph-prebuilt-1.0.1 langgraph-sdk-0.2.9 langsmith-0.4.38 orjson-3.11.4 ormsgpack-1.11.0 pyyaml-6.0.3 regex-2025.10.23 requests-2.32.5 requests-toolbelt-1.0.0 tenacity-9.1.2 tiktoken-0.12.0 urllib3-2.5.0 xxhash-3.6.0 zstandard-0.25.0\n",
      "Note: you may need to restart the kernel to use updated packages.\n"
     ]
    },
    {
     "name": "stderr",
     "output_type": "stream",
     "text": [
      "\n",
      "[notice] A new release of pip available: 22.3 -> 25.3\n",
      "[notice] To update, run: python.exe -m pip install --upgrade pip\n"
     ]
    }
   ],
   "source": [
    "%pip install openai langchain python-dotenv langchain-openai"
   ]
  },
  {
   "cell_type": "markdown",
   "id": "5aee39b5",
   "metadata": {},
   "source": [
    "## 2️⃣ Cargar variables de entorno y cliente OpenAI\n",
    "Crea un archivo `.env` con tu clave de API y cárgala para poder usarla dentro de LangChain. Esto evita exponer tu clave en el código fuente."
   ]
  },
  {
   "cell_type": "code",
   "execution_count": 2,
   "id": "4b3fcb82",
   "metadata": {},
   "outputs": [
    {
     "name": "stdout",
     "output_type": "stream",
     "text": [
      "Cliente LangChain con OpenAI inicializado correctamente.\n"
     ]
    }
   ],
   "source": [
    "\n",
    "import os\n",
    "from dotenv import load_dotenv\n",
    "from langchain_openai import ChatOpenAI\n",
    "\n",
    "load_dotenv()  # Cargar archivo .env\n",
    "api_key = os.getenv(\"OPENAI_API_KEY\")\n",
    "\n",
    "if not api_key:\n",
    "    raise ValueError(\"No se encontró la clave OPENAI_API_KEY en el archivo .env\")\n",
    "\n",
    "# Crear cliente LangChain con OpenAI\n",
    "llm = ChatOpenAI(model=\"gpt-4o-mini\", temperature=0.5)\n",
    "print(\"Cliente LangChain con OpenAI inicializado correctamente.\")\n"
   ]
  },
  {
   "cell_type": "markdown",
   "id": "65e2926d",
   "metadata": {},
   "source": [
    "## 3️⃣ Primer ejemplo: Prompt simple con LangChain\n",
    "LangChain utiliza **chains** (cadenas de pasos) para procesar información. Comencemos con una cadena simple que envía un mensaje al modelo y obtiene la respuesta."
   ]
  },
  {
   "cell_type": "code",
   "execution_count": 3,
   "id": "0769dbb6",
   "metadata": {},
   "outputs": [
    {
     "name": "stdout",
     "output_type": "stream",
     "text": [
      "El aprendizaje automático es una rama de la inteligencia artificial que permite a las computadoras aprender y mejorar su rendimiento en tareas específicas a partir de datos, sin ser programadas explícitamente para cada tarea. Utiliza algoritmos que identifican patrones y hacen predicciones o decisiones basadas en la información proporcionada.\n"
     ]
    }
   ],
   "source": [
    "from langchain_openai import ChatOpenAI\n",
    "from langchain_core.prompts import ChatPromptTemplate\n",
    "from langchain_core.output_parsers import StrOutputParser\n",
    "\n",
    "# Initialize the LLM (uses your OpenAI API key from environment)\n",
    "llm = ChatOpenAI(model=\"gpt-4o-mini\", temperature=0.5)\n",
    "\n",
    "# Create a simple prompt\n",
    "prompt = ChatPromptTemplate.from_template(\n",
    "    \"Explica en dos frases el concepto de {tema}.\"\n",
    ")\n",
    "\n",
    "# Combine the components using LCEL (LangChain Expression Language)\n",
    "chain = prompt | llm | StrOutputParser()\n",
    "\n",
    "# Run it\n",
    "result = chain.invoke({\"tema\": \"aprendizaje automático\"})\n",
    "print(result)\n"
   ]
  },
  {
   "cell_type": "markdown",
   "id": "a5349f8b",
   "metadata": {},
   "source": [
    "### Explicación\n",
    "- **ChatPromptTemplate:** define la estructura del mensaje que se envía al modelo.\n",
    "- **ChatOpenAI:** la conexión real al modelo.\n",
    "- **chain** crea la cadena de componentes usando LCEL (LangChain Expression Language).\n",
    "- **StrOutputParser** convierte la salida estructurada del modelo en texto plano.\n",
    "- **chain.invoke:** ejecuta la cadena pasando los valores del prompt.\n",
    "\n",
    "Este patrón permite reutilizar prompts para distintos temas o contextos."
   ]
  },
  {
   "cell_type": "markdown",
   "id": "6939352f",
   "metadata": {},
   "source": [
    "## 4️⃣ Ejemplo 2: Encadenar múltiples pasos\n",
    "LangChain permite combinar varios pasos en una misma ejecución. En este ejemplo, crearemos dos prompts: uno para definir un tema y otro para generar una aplicación educativa basada en el resultado."
   ]
  },
  {
   "cell_type": "code",
   "execution_count": null,
   "id": "65c8d134",
   "metadata": {},
   "outputs": [
    {
     "name": "stdout",
     "output_type": "stream",
     "text": [
      "Una aplicación educativa interesante de la realidad aumentada (RA) podría ser una plataforma de aprendizaje llamada \"Explora el Mundo\". Esta aplicación estaría diseñada para estudiantes de educación primaria y secundaria, y su objetivo sería enriquecer el aprendizaje en diversas materias, como ciencias, historia y geografía, al superponer contenido digital relevante y atractivo sobre el entorno físico.\n",
      "\n",
      "### Características de \"Explora el Mundo\":\n",
      "\n",
      "1. **Exploraciones de Campo**:\n",
      "   - Los estudiantes pueden usar sus dispositivos móviles para escanear lugares específicos en su entorno, como parques, museos o incluso el aula. La aplicación reconocerá el lugar y superpondrá información relevante, como datos históricos, biología de las plantas o características geográficas.\n",
      "\n",
      "2. **Contenido Interactivo**:\n",
      "   - La aplicación ofrecerá elementos interactivos, como modelos 3D de estructuras históricas, animales o células, que los estudiantes pueden manipular. Por ejemplo, al apuntar su dispositivo a un árbol, los estudiantes podrían ver un modelo 3D de su sistema de raíces y aprender sobre su fotosíntesis.\n",
      "\n",
      "3. **Juegos Educativos**:\n",
      "   - Incluiría juegos basados en la localización que fomenten la exploración y el aprendizaje. Por ejemplo, los estudiantes podrían participar en una búsqueda del tesoro donde deben encontrar y escanear diferentes elementos en su entorno para desbloquear información o completar desafíos relacionados con la materia.\n",
      "\n",
      "4. **Proyectos Colaborativos**:\n",
      "   - La aplicación permitiría a los estudiantes trabajar en proyectos en grupo, donde pueden crear presentaciones utilizando elementos de RA. Por ejemplo, podrían crear una presentación sobre un ecosistema local, integrando imágenes, videos y modelos 3D que expliquen la biodiversidad de la zona.\n",
      "\n",
      "5. **Evaluaciones Interactivas**:\n",
      "   - Los profesores podrían diseñar evaluaciones interactivas donde los estudiantes deban responder preguntas al interactuar con elementos de RA. Por ejemplo, podrían tener que identificar diferentes especies de plantas en un área designada y responder preguntas sobre ellas.\n",
      "\n",
      "6. **Accesibilidad y Personalización**:\n",
      "   - La aplicación podría adaptarse a diferentes niveles de aprendizaje, permitiendo a los profesores personalizar el contenido según las necesidades de sus estudiantes. Además, incluiría opciones de accesibilidad para garantizar que todos los estudiantes puedan beneficiarse de la tecnología.\n",
      "\n",
      "### Beneficios de \"Explora el Mundo\":\n",
      "\n",
      "- **Aprendizaje Activo**: Fomenta el aprendizaje activo y la curiosidad al permitir que los estudiantes interactúen con su entorno de manera significativa.\n",
      "- **Retención del Conocimiento**: La combinación de elementos visuales y prácticos puede mejorar la retención del conocimiento y la comprensión de conceptos complejos.\n",
      "- **Desarrollo de Habilidades**: Promueve habilidades como el trabajo en equipo, la resolución de problemas y el pensamiento crítico.\n",
      "- **Motivación**: El uso de tecnología innovadora puede aumentar la motivación y el interés de los estudiantes en el aprendizaje.\n",
      "\n",
      "En resumen, \"Explora el Mundo\" sería una aplicación educativa que aprovecha la realidad aumentada para transformar el aprendizaje en una experiencia dinámica, interactiva y contextual, haciendo que los estudiantes se sientan más conectados con el contenido y su entorno.\n"
     ]
    }
   ],
   "source": [
    "# Primer paso: obtener una descripción\n",
    "primer_prompt = ChatPromptTemplate.from_template(\n",
    "    \"Explica brevemente el concepto de {tema}.\"\n",
    ")\n",
    "\n",
    "primer_paso = primer_prompt | llm | StrOutputParser()\n",
    "\n",
    "# Segundo paso: generar aplicación educativa\n",
    "segundo_prompt = ChatPromptTemplate.from_template(\n",
    "    \"Propón una aplicación educativa del siguiente concepto: {concepto}.\"\n",
    ")\n",
    "segundo_paso = segundo_prompt | llm | StrOutputParser()\n",
    "\n",
    "# Combinar ambos pasos en una cadena secuencial\n",
    "chain_secuencial =  { \"concepto\": primer_paso} | segundo_paso\n",
    "\n",
    "# Ejecutar la cadena completa\n",
    "resultado = chain_secuencial.invoke({\"tema\": \"realidad aumentada\"})\n",
    "print(resultado)\n"
   ]
  },
  {
   "cell_type": "code",
   "execution_count": 5,
   "id": "b6cd03c2",
   "metadata": {},
   "outputs": [
    {
     "name": "stdout",
     "output_type": "stream",
     "text": [
      "Una aplicación educativa innovadora basada en la realidad aumentada (RA) podría ser \"Aula Aumentada\", una plataforma diseñada para enriquecer el aprendizaje en diversas materias a través de la interacción con contenidos digitales superpuestos en el entorno físico del aula.\n",
      "\n",
      "### Concepto de Aula Aumentada\n",
      "\n",
      "**Descripción General:**\n",
      "\"Aula Aumentada\" sería una aplicación que permite a los estudiantes explorar conceptos complejos mediante la visualización de modelos 3D, animaciones y datos interactivos que aparecen en su entorno real. Los docentes pueden utilizar la aplicación para complementar sus lecciones, haciendo que el aprendizaje sea más dinámico y atractivo.\n",
      "\n",
      "### Características Principales:\n",
      "\n",
      "1. **Modelos 3D Interactivos:**\n",
      "   - Los estudiantes pueden escanear imágenes o códigos QR en sus libros de texto o en el aula para ver modelos 3D de objetos relacionados con el tema de estudio, como estructuras moleculares en química, figuras geométricas en matemáticas o monumentos históricos en historia.\n",
      "\n",
      "2. **Simulaciones y Experimentos Virtuales:**\n",
      "   - La aplicación podría ofrecer simulaciones de experimentos científicos donde los estudiantes pueden manipular variables y observar resultados en tiempo real, como reacciones químicas o fenómenos físicos, sin necesidad de materiales costosos o peligrosos.\n",
      "\n",
      "3. **Rutas de Aprendizaje Personalizadas:**\n",
      "   - Los docentes pueden crear rutas de aprendizaje personalizadas que guíen a los estudiantes a través de diferentes temas, utilizando la RA para proporcionar información adicional y desafíos interactivos en cada etapa.\n",
      "\n",
      "4. **Evaluaciones Interactivas:**\n",
      "   - A través de la RA, los estudiantes pueden participar en evaluaciones interactivas, como juegos de preguntas y respuestas que aparecen en su entorno, lo que hace que el proceso de evaluación sea más divertido y menos estresante.\n",
      "\n",
      "5. **Colaboración en Tiempo Real:**\n",
      "   - La aplicación permitiría a los estudiantes trabajar en grupos, donde podrían ver y manipular los mismos objetos virtuales en sus dispositivos, fomentando la colaboración y el aprendizaje social.\n",
      "\n",
      "6. **Integración con Realidad Física:**\n",
      "   - Los estudiantes podrían realizar actividades en el aula que involucren la búsqueda de objetos físicos que se relacionen con el contenido digital, promoviendo el aprendizaje activo y el movimiento.\n",
      "\n",
      "### Beneficios Educativos:\n",
      "\n",
      "- **Mejora de la Comprensión Conceptual:**\n",
      "  La visualización de conceptos abstractos a través de modelos 3D facilita la comprensión y retención de información.\n",
      "\n",
      "- **Fomento de la Curiosidad:**\n",
      "  La interactividad y el uso de tecnología moderna pueden aumentar el interés y la motivación de los estudiantes por aprender.\n",
      "\n",
      "- **Desarrollo de Habilidades Digitales:**\n",
      "  Los estudiantes adquieren competencias en el uso de tecnología avanzada, preparándolos para un mundo cada vez más digital.\n",
      "\n",
      "- **Aprendizaje Inclusivo:**\n",
      "  La RA puede adaptarse a diferentes estilos de aprendizaje, beneficiando a estudiantes con diversas necesidades.\n",
      "\n",
      "### Implementación:\n",
      "\n",
      "Para implementar \"Aula Aumentada\", se necesitaría colaborar con desarrolladores de software, educadores y diseñadores de contenido educativo. Se podría realizar una fase piloto en algunas escuelas para evaluar su efectividad y realizar ajustes antes de un lanzamiento más amplio.\n",
      "\n",
      "Con \"Aula Aumentada\", la educación se transforma en una experiencia inmersiva y colaborativa, donde la tecnología y el aprendizaje se entrelazan para preparar a los estudiantes para los desafíos del futuro.\n"
     ]
    }
   ],
   "source": [
    "from langchain_openai import ChatOpenAI\n",
    "from langchain_core.prompts import ChatPromptTemplate\n",
    "from langchain_core.output_parsers import StrOutputParser\n",
    "from operator import itemgetter\n",
    "\n",
    "# 1) LLM (usa tu OPENAI_API_KEY en el entorno)\n",
    "llm = ChatOpenAI(model=\"gpt-4o-mini\", temperature=0.5)\n",
    "to_str = StrOutputParser()\n",
    "\n",
    "# 2) Paso 1: explicar brevemente el concepto de {tema}\n",
    "primer_prompt = ChatPromptTemplate.from_template(\n",
    "    \"Explica brevemente el concepto de {tema}.\"\n",
    ")\n",
    "primer_paso = primer_prompt | llm | to_str\n",
    "# `primer_paso` produce un string, por ejemplo: \"La realidad aumentada es ...\"\n",
    "\n",
    "# 3) Paso 2: proponer una aplicación educativa usando la salida del paso 1 como {concepto}\n",
    "segundo_prompt = ChatPromptTemplate.from_template(\n",
    "    \"Propón una aplicación educativa del siguiente concepto: {concepto}.\"\n",
    ")\n",
    "segundo_paso = segundo_prompt | llm | to_str\n",
    "\n",
    "# 4) Encadenar: mapear la entrada {tema} al primer paso, y su salida a {concepto} del segundo\n",
    "cadena_secuencial = {\"concepto\": primer_paso} | segundo_paso\n",
    "\n",
    "# 5) Ejecutar la cadena completa\n",
    "resultado = cadena_secuencial.invoke({\"tema\": \"realidad aumentada\"})\n",
    "print(resultado)"
   ]
  },
  {
   "cell_type": "markdown",
   "id": "cf949db6",
   "metadata": {},
   "source": [
    "### Explicación\n",
    "- **cadena_secuencial:** permite conectar varias cadenas; la salida de una se convierte en la entrada de la siguiente.\n",
    "- En este caso, el modelo primero explica el tema y luego sugiere una aplicación educativa.\n",
    "\n",
    "Este tipo de flujo es ideal para generar contenido didáctico o ideas para proyectos en clase."
   ]
  },
  {
   "cell_type": "markdown",
   "id": "0d0483d0",
   "metadata": {},
   "source": [
    "## 5️⃣ Ejemplo 3: Añadir memoria a la conversación\n",
    "LangChain incluye módulos de **memoria** para mantener contexto entre múltiples interacciones. Esto permite simular conversaciones educativas más naturales, donde el modelo recuerda temas previos."
   ]
  },
  {
   "cell_type": "code",
   "execution_count": 23,
   "id": "d363f018",
   "metadata": {},
   "outputs": [
    {
     "name": "stdout",
     "output_type": "stream",
     "text": [
      "¡Hola! Encantado de ayudarte. ¿En qué puedo asistirte hoy?\n",
      "Claro, aquí tienes algunas sugerencias sobre cómo introducir la inteligencia artificial (IA) a tus estudiantes:\n",
      "\n",
      "1. **Conceptos Básicos**:\n",
      "   - Comienza con una introducción a la IA: define qué es, sus aplicaciones y su importancia en la actualidad.\n",
      "   - Explica términos clave como aprendizaje automático, redes neuronales y procesamiento del lenguaje natural.\n",
      "\n",
      "2. **Ejemplos Prácticos**:\n",
      "   - Muestra ejemplos de IA en la vida cotidiana, como asistentes virtuales (Siri, Alexa), recomendaciones de películas y chatbots.\n",
      "   - Utiliza casos de estudio de empresas que usan IA, como Google, Amazon o Tesla.\n",
      "\n",
      "3. **Proyectos Prácticos**:\n",
      "   - Asigna proyectos donde los estudiantes puedan experimentar con herramientas de IA, como TensorFlow o Scratch con extensiones de IA.\n",
      "   - Fomenta la creación de pequeños modelos de IA, como un clasificador de imágenes o un chatbot simple.\n",
      "\n",
      "4. **Ética y Responsabilidad**:\n",
      "   - Discute las implicaciones éticas de la IA, como sesgos en los algoritmos y la privacidad de los datos.\n",
      "   - Fomenta un debate sobre el impacto de la IA en el futuro del trabajo y la sociedad.\n",
      "\n",
      "5. **Recursos Educativos**:\n",
      "   - Proporciona recursos como cursos en línea (Coursera, edX) y tutoriales en plataformas como YouTube.\n",
      "   - Recomienda libros y artículos accesibles sobre IA para estudiantes.\n",
      "\n",
      "6. **Invitados Especiales**:\n",
      "   - Si es posible, invita a expertos en IA para que hablen sobre su trabajo y respondan preguntas de los estudiantes.\n",
      "\n",
      "7. **Competencias y Habilidades**:\n",
      "   - Enfatiza la importancia de habilidades como la programación (Python es muy popular en IA) y el pensamiento crítico.\n",
      "\n",
      "Al seguir estos pasos, podrás introducir la IA de manera efectiva y atractiva para tus estudiantes. ¡Buena suerte!\n",
      "Aquí tienes algunos ejemplos prácticos de IA que puedes usar en clase:\n",
      "\n",
      "1. **Chatbots**:\n",
      "   - Crea un chatbot simple utilizando plataformas como Chatbot.com o Dialogflow. Los estudiantes pueden diseñar un bot que responda preguntas sobre un tema específico.\n",
      "\n",
      "2. **Clasificación de Imágenes**:\n",
      "   - Utiliza herramientas como Teachable Machine de Google, donde los estudiantes pueden entrenar un modelo para clasificar imágenes (por ejemplo, distinguir entre diferentes tipos de frutas).\n",
      "\n",
      "3. **Reconocimiento de Voz**:\n",
      "   - Implementa un proyecto que use APIs de reconocimiento de voz, como la API de Google Cloud Speech-to-Text, para crear aplicaciones que conviertan voz en texto.\n",
      "\n",
      "4. **Análisis de Sentimientos**:\n",
      "   - Los estudiantes pueden usar bibliotecas de Python como NLTK o TextBlob para analizar el sentimiento de comentarios en redes sociales o reseñas de productos.\n",
      "\n",
      "5. **Recomendaciones de Películas**:\n",
      "   - Enseña a los estudiantes a crear un sistema de recomendación básico utilizando datos de películas, donde pueden aplicar algoritmos simples de filtrado colaborativo.\n",
      "\n",
      "6. **Juegos con IA**:\n",
      "   - Desarrolla un juego simple donde los estudiantes puedan implementar IA básica, como un oponente que toma decisiones simples (por ejemplo, un juego de tic-tac-toe).\n",
      "\n",
      "7. **Predicción de Datos**:\n",
      "   - Usa conjuntos de datos públicos (como los de Kaggle) para enseñar a los estudiantes a construir modelos de predicción, por ejemplo, predecir precios de casas usando regresión lineal.\n",
      "\n",
      "8. **Visualización de Datos**:\n",
      "   - Utiliza herramientas como Tableau o Google Data Studio para que los estudiantes visualicen datos y descubran patrones, lo que es fundamental en el análisis de datos para IA.\n",
      "\n",
      "9. **Proyectos de IA en Scratch**:\n",
      "   - Utiliza Scratch con extensiones de IA para que los estudiantes creen proyectos interactivos, como juegos o animaciones que respondan a entradas del usuario.\n",
      "\n",
      "10. **Demos de IA**:\n",
      "    - Muestra demos en vivo de IA como DALL-E para generación de imágenes o GPT-3 para generación de texto, y discute cómo funcionan y sus aplicaciones.\n",
      "\n",
      "Estos ejemplos no solo son prácticos, sino que también fomentan la creatividad y el pensamiento crítico entre los estudiantes. ¡Espero que encuentres útiles estas ideas!\n"
     ]
    }
   ],
   "source": [
    "\n",
    "# Instalar si hace falta:\n",
    "# %pip install -U langchain langchain-openai\n",
    "\n",
    "from langchain_openai import ChatOpenAI\n",
    "from langchain_core.prompts import ChatPromptTemplate, MessagesPlaceholder\n",
    "from langchain_core.messages import HumanMessage, AIMessage\n",
    "from langchain_core.output_parsers import StrOutputParser\n",
    "\n",
    "# LLM (requiere OPENAI_API_KEY en el entorno)\n",
    "llm = ChatOpenAI(model=\"gpt-4o-mini\", temperature=0.5)\n",
    "to_str = StrOutputParser()\n",
    "\n",
    "# Prompt con hueco para el historial\n",
    "prompt = ChatPromptTemplate.from_messages([\n",
    "    (\"system\", \"Eres un asistente educativo claro y conciso.\"),\n",
    "    MessagesPlaceholder(\"chat_history\"),      # ← aquí va la memoria\n",
    "    (\"human\", \"{input}\")\n",
    "])\n",
    "\n",
    "# Cadena base\n",
    "chain = prompt | llm | to_str\n",
    "\n",
    "# Memoria simple como lista de mensajes\n",
    "history: list = []\n",
    "\n",
    "def chat(user_text: str) -> str:\n",
    "    \"\"\"\n",
    "    Envía un turno del usuario, usa el historial y actualiza la memoria\n",
    "    con el par (usuario, asistente).\n",
    "    \"\"\"\n",
    "    global history\n",
    "    # Ejecutar la cadena inyectando el historial actual\n",
    "    answer = chain.invoke({\"input\": user_text, \"chat_history\": history})\n",
    "    # Actualizar memoria (guardar los dos mensajes)\n",
    "    history += [HumanMessage(content=user_text), AIMessage(content=answer)]\n",
    "    return answer\n",
    "\n",
    "# --- Ejemplo de uso (tres turnos) ---\n",
    "print(chat(\"Hola, soy un profesor de informática.\"))\n",
    "print(chat(\"¿Puedes explicarme cómo introducir IA a mis estudiantes?\"))\n",
    "print(chat(\"¿Qué ejemplos prácticos puedo usar en la clase?\"))\n",
    "\n"
   ]
  },
  {
   "cell_type": "markdown",
   "id": "6a79423b",
   "metadata": {},
   "source": [
    "### Explicación\n",
    "- **ConversationBufferMemory:** almacena los mensajes anteriores en la conversación.\n",
    "- **ConversationChain:** combina el modelo con la memoria.\n",
    "- Esta funcionalidad es útil para tutores inteligentes o chatbots educativos que requieren continuidad en el diálogo."
   ]
  },
  {
   "cell_type": "markdown",
   "id": "f0ba0ab9",
   "metadata": {},
   "source": [
    "## 6️⃣ Buenas prácticas con LangChain + OpenAI\n",
    "- Usa prompts **claros y estructurados**: el modelo responde mejor cuando la tarea está bien definida.\n",
    "- Controla `temperature` según la tarea: bajo (0.1–0.3) para precisión, alto (0.7–0.9) para creatividad.\n",
    "- Guarda logs o historiales si tu aplicación incluye interacción prolongada.\n",
    "- Limita la longitud de las respuestas con `max_tokens` para evitar costos o respuestas excesivas.\n",
    "- Documenta tus cadenas (`LLMChain`) para reusarlas en distintos contextos educativos."
   ]
  },
  {
   "cell_type": "markdown",
   "id": "68a40d49",
   "metadata": {},
   "source": [
    "## ✅ Conclusión\n",
    "Has aprendido los fundamentos de LangChain: prompts, chains, memoria y flujo secuencial. Estos conceptos son la base para desarrollar asistentes educativos, tutores personalizados o sistemas de generación de contenido en el aula. En la próxima guía implementaremos un **asistente educativo con RAG (Retrieval-Augmented Generation)** usando tus propios materiales docentes."
   ]
  }
 ],
 "metadata": {
  "kernelspec": {
   "display_name": "venv",
   "language": "python",
   "name": "python3"
  },
  "language_info": {
   "codemirror_mode": {
    "name": "ipython",
    "version": 3
   },
   "file_extension": ".py",
   "mimetype": "text/x-python",
   "name": "python",
   "nbconvert_exporter": "python",
   "pygments_lexer": "ipython3",
   "version": "3.11.0"
  }
 },
 "nbformat": 4,
 "nbformat_minor": 5
}
